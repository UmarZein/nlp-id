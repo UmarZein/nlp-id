{
 "cells": [
  {
   "cell_type": "code",
   "execution_count": 78,
   "metadata": {},
   "outputs": [],
   "source": [
    "from nltk.tree import Tree\n",
    "from nlp_id import tokenizer\n",
    "import pickle\n",
    "import os\n",
    "import nltk\n",
    "import wget\n",
    "# default classifier\n",
    "from sklearn import ensemble\n",
    "from sklearn.feature_extraction import DictVectorizer\n",
    "from sklearn.pipeline import Pipeline\n",
    "\n",
    "\n",
    "class PosTag:\n",
    "    def __init__(self, model_path=\"postagger.pkl\"):\n",
    "        self.current_dir = os.path.dirname(os.path.realpath(\"__filename__\"))\n",
    "#         url = \"https://storage.googleapis.com/kumparan-public-bucket/nlp-id/postagger_v6.pkl\"\n",
    "#         wget.download(url, model_path)\n",
    "        self.clf = self.load_model(model_path)\n",
    "        self.tokenizer = tokenizer.Tokenizer()\n",
    "        self.method = method\n",
    "\n",
    "    def load_model(self,model_path):\n",
    "        pickle_in = open(model_path,\"rb\")\n",
    "        load_data = pickle.load(pickle_in)\n",
    "        return load_data\n",
    "\n",
    "    def features(self, sentence, index):\n",
    "        \"\"\" sentence: [w1, w2, ...], index: the index of the word \"\"\"\n",
    "        return {\n",
    "            'word': sentence[index],\n",
    "            'is_first': index == 0,\n",
    "            'is_last': index == len(sentence) - 1,\n",
    "            'is_capitalized': sentence[index][0].upper() == sentence[index][0],\n",
    "            'is_all_caps': sentence[index].upper() == sentence[index],\n",
    "            'is_all_lower': sentence[index].lower() == sentence[index],\n",
    "            'has_hyphen': '-' in sentence[index],\n",
    "            'is_numeric': sentence[index].isdigit(),\n",
    "            'capitals_inside': sentence[index][1:].lower() != sentence[index][1:],\n",
    "            'prefix-1': sentence[index][0],\n",
    "            'prefix-1-lower': sentence[index][0].lower(),\n",
    "            'prefix-2': sentence[index][:2],\n",
    "            'prefix-2-lower': sentence[index][:2].lower(),\n",
    "            'prefix-3': sentence[index][:3],\n",
    "            'prefix-3-lower': sentence[index][:3].lower(),\n",
    "            'suffix-1': sentence[index][-1],\n",
    "            'suffix-1-lower': sentence[index][-1].lower(),\n",
    "            'suffix-2': sentence[index][-2:],\n",
    "            'suffix-2-lower': sentence[index][-2:].lower(),\n",
    "            'suffix-3': sentence[index][-3:],\n",
    "            'suffix-3-lower': sentence[index][-3:].lower(),\n",
    "            'lowercase_word': sentence[index].lower(),\n",
    "            'prev_word': '' if index == 0 else sentence[index - 1],\n",
    "            'next_word': '' if index == len(sentence) - 1 else sentence[index + 1],\n",
    "        }\n",
    "\n",
    "    def get_pos_tag(self, text):\n",
    "        result = []\n",
    "        sents = nltk.sent_tokenize(text)\n",
    "        symbols = ['!', '&', '(', ')', '*', '?', ',', '.', '<', '>', '/', ':', ';',\n",
    "                   '[', ']', '\\\\', '^', '`', '{', '}', '|', '~', '\"', '“', \"'\"]\n",
    "        for sent in sents:\n",
    "            tokenized_word = self.tokenizer.tokenize(sent)\n",
    "            if sent:\n",
    "                tags = self.clf.predict([self.features(tokenized_word, index) for index in range(len(tokenized_word))])\n",
    "                for i in range(len(tags)):\n",
    "                    if tokenized_word[i] in symbols:\n",
    "                        result.append((tokenized_word[i], 'SYM'))\n",
    "                    else:\n",
    "                        result.append((tokenized_word[i], tags[i]))\n",
    "        return result\n",
    "    \n",
    "    def tree_to_list(self, tree_data):\n",
    "        result = []\n",
    "        for subtree in tree_data:\n",
    "            if type(subtree) == Tree:\n",
    "                phrase = \" \".join([token for token, pos in subtree.leaves()])\n",
    "                result.append((phrase, subtree.label()))\n",
    "            else:\n",
    "                result.append((subtree[0], subtree[1]))\n",
    "        return result\n",
    "\n",
    "    def chunk_tag(self, tag):\n",
    "        chunk_rule = '''\n",
    "            DP: {<NUM><NNP><NUM>}\n",
    "            NP: {<NNP><NNP>+}\n",
    "            NP: {<NN>+<JJ>}\n",
    "            NP: {<FW><FW>+}\n",
    "            NP: {<NP><NP>+}\n",
    "            ADJP: {<JJ><ADV>}\n",
    "            ADJP: {<ADV><JJ>}\n",
    "            ADJP: {<JJ>+}\n",
    "            ADJP: {<NEG>*<ADJP>}\n",
    "            VP: {<NEG>*<VB>}\n",
    "            NUMP: {<NUM><NUM>+}\n",
    "            '''\n",
    "        chunkParser= nltk.RegexpParser(chunk_rule)\n",
    "        tree = chunkParser.parse(tag)\n",
    "        result = self.tree_to_list(tree)\n",
    "        return result\n",
    "    \n",
    "    def get_phrase_tag(self,text):\n",
    "        if text:\n",
    "            tag = self.get_pos_tag(text)\n",
    "            phrase_tag = self.chunk_tag(tag)\n",
    "        else:\n",
    "            phrase_tag = []\n",
    "        return phrase_tag\n",
    "\n",
    "    def read_dataset(self, dataset_path=None):\n",
    "        if not dataset_path:\n",
    "            dataset_path = os.path.join(self.current_dir, 'nlp_id', 'data', 'dataset_postag.txt')\n",
    "\n",
    "        with open(dataset_path) as f:\n",
    "            raw_file = f.read().split(\"\\n\")\n",
    "\n",
    "        files = [i.split(\"\\t\") for i in raw_file]\n",
    "\n",
    "        sentences, tags, temp_sentences, temp_tags = [], [], [], []\n",
    "\n",
    "        for file in files:\n",
    "            if file != [\"\"]:\n",
    "                temp_sentences.append(file[0]) # get the sentences\n",
    "                temp_tags.append(file[1]) # get the tag\n",
    "            else:\n",
    "                # check if the temp sentences and temp tags is not null and both of them have the same length\n",
    "                if len(temp_sentences) > 0 and (len(temp_sentences) == len(temp_tags)):\n",
    "                    sentences.append(temp_sentences)\n",
    "                    tags.append(temp_tags)\n",
    "                temp_sentences, temp_tags = [], []\n",
    "        return sentences, tags\n",
    "    \n",
    "    def transform_to_dataset(self, sentences, tags):\n",
    "        X, y = [], []\n",
    "\n",
    "        for sentence_idx in range(len(sentences)):\n",
    "            for index in range(len(sentences[sentence_idx])):\n",
    "                X.append(self.features(sentences[sentence_idx], index))\n",
    "                y.append(tags[sentence_idx][index])\n",
    "\n",
    "        return X, y\n",
    "\n",
    "    def train(self, sentences, tags):\n",
    "        if self.method == \"svc\":\n",
    "            self.clf = Pipeline([\n",
    "                ('vectorizer', DictVectorizer(sparse=True)),\n",
    "                ('classifier', LinearSVC(C=4, dual=False, random_state=2020))\n",
    "            ])\n",
    "        elif self.method == \"random_forest\":\n",
    "            self.clf = Pipeline([\n",
    "                ('vectorizer', DictVectorizer(sparse=True)),\n",
    "                ('classifier', ensemble.RandomForestClassifier(criterion='gini', n_estimators=15, random_state=2020))\n",
    "            ])\n",
    "        else:\n",
    "            raise\n",
    "\n",
    "        self.clf.fit(sentences, tags)\n",
    "        \n",
    "    def save_model(self,model_path):\n",
    "        pickle_out = open(model_path, \"wb\")\n",
    "        pickle.dump(self.clf, pickle_out)\n",
    "        pickle_out.close()\n"
   ]
  },
  {
   "cell_type": "code",
   "execution_count": 18,
   "metadata": {},
   "outputs": [],
   "source": [
    "# url = \"https://storage.googleapis.com/kumparan-public-bucket/nlp-id/postagger_v6.pkl\"\n",
    "# wget.download(url, \"postagger.pkl\")"
   ]
  },
  {
   "cell_type": "markdown",
   "metadata": {},
   "source": [
    "# Existing model (Random Forest)"
   ]
  },
  {
   "cell_type": "code",
   "execution_count": 19,
   "metadata": {},
   "outputs": [],
   "source": [
    "postag = PosTag()"
   ]
  },
  {
   "cell_type": "code",
   "execution_count": 20,
   "metadata": {},
   "outputs": [],
   "source": [
    "s, t = postag.read_dataset()"
   ]
  },
  {
   "cell_type": "code",
   "execution_count": 21,
   "metadata": {},
   "outputs": [],
   "source": [
    "s2, t2 = postag.transform_to_dataset(s,t)"
   ]
  },
  {
   "cell_type": "code",
   "execution_count": 22,
   "metadata": {},
   "outputs": [],
   "source": [
    "from sklearn.model_selection import cross_val_score, KFold"
   ]
  },
  {
   "cell_type": "code",
   "execution_count": 23,
   "metadata": {},
   "outputs": [],
   "source": [
    "vect = DictVectorizer(sparse=True)"
   ]
  },
  {
   "cell_type": "code",
   "execution_count": 24,
   "metadata": {},
   "outputs": [],
   "source": [
    "s3 = vect.fit_transform(s2)"
   ]
  },
  {
   "cell_type": "code",
   "execution_count": 27,
   "metadata": {},
   "outputs": [],
   "source": [
    "clf = ensemble.RandomForestClassifier(criterion='gini', n_estimators=15, random_state=2020)"
   ]
  },
  {
   "cell_type": "code",
   "execution_count": 28,
   "metadata": {},
   "outputs": [],
   "source": [
    "# from sklearn.svm import LinearSVC\n",
    "\n",
    "# clf = LinearSVC(C=4, dual=False, random_state=2020)"
   ]
  },
  {
   "cell_type": "code",
   "execution_count": 29,
   "metadata": {},
   "outputs": [],
   "source": [
    "cv = KFold(n_splits=5, shuffle=True, random_state=2020)"
   ]
  },
  {
   "cell_type": "code",
   "execution_count": 30,
   "metadata": {},
   "outputs": [
    {
     "name": "stderr",
     "output_type": "stream",
     "text": [
      "[Parallel(n_jobs=4)]: Using backend LokyBackend with 4 concurrent workers.\n",
      "[Parallel(n_jobs=4)]: Done   5 out of   5 | elapsed: 16.8min finished\n"
     ]
    }
   ],
   "source": [
    "check = cross_val_score(clf, s3, t2, cv=cv, scoring=\"f1_macro\", verbose=True, n_jobs=4)"
   ]
  },
  {
   "cell_type": "code",
   "execution_count": 31,
   "metadata": {},
   "outputs": [
    {
     "data": {
      "text/plain": [
       "array([0.99566112, 0.99609849, 0.93895801, 0.9936406 , 0.99021064])"
      ]
     },
     "execution_count": 31,
     "metadata": {},
     "output_type": "execute_result"
    }
   ],
   "source": [
    "check"
   ]
  },
  {
   "cell_type": "code",
   "execution_count": 90,
   "metadata": {},
   "outputs": [
    {
     "data": {
      "text/plain": [
       "0.9829137717212463"
      ]
     },
     "execution_count": 90,
     "metadata": {},
     "output_type": "execute_result"
    }
   ],
   "source": [
    "f1_score = sum(check)/len(check)\n",
    "f1_score"
   ]
  },
  {
   "cell_type": "markdown",
   "metadata": {},
   "source": [
    "# Linear SVC"
   ]
  },
  {
   "cell_type": "code",
   "execution_count": 35,
   "metadata": {},
   "outputs": [],
   "source": [
    "from sklearn.svm import LinearSVC\n",
    "\n",
    "svc_clf = LinearSVC(C=4, dual=False, random_state=2020)"
   ]
  },
  {
   "cell_type": "code",
   "execution_count": 36,
   "metadata": {},
   "outputs": [
    {
     "name": "stderr",
     "output_type": "stream",
     "text": [
      "[Parallel(n_jobs=4)]: Using backend LokyBackend with 4 concurrent workers.\n",
      "[Parallel(n_jobs=4)]: Done   5 out of   5 | elapsed: 14.2min finished\n"
     ]
    }
   ],
   "source": [
    "svc_check = cross_val_score(svc_clf, s3, t2, cv=cv, scoring=\"f1_macro\", verbose=True, n_jobs=4)"
   ]
  },
  {
   "cell_type": "code",
   "execution_count": 91,
   "metadata": {},
   "outputs": [
    {
     "data": {
      "text/plain": [
       "0.9954005524803555"
      ]
     },
     "execution_count": 91,
     "metadata": {},
     "output_type": "execute_result"
    }
   ],
   "source": [
    "f1_score = sum(svc_check)/len(svc_check)\n",
    "f1_score"
   ]
  },
  {
   "cell_type": "markdown",
   "metadata": {},
   "source": [
    "# Test"
   ]
  },
  {
   "cell_type": "code",
   "execution_count": 56,
   "metadata": {},
   "outputs": [],
   "source": [
    "postag_rf = PosTag()"
   ]
  },
  {
   "cell_type": "code",
   "execution_count": 57,
   "metadata": {},
   "outputs": [],
   "source": [
    "s, t = postag_rf.read_dataset()\n",
    "s2, t2 = postag_rf.transform_to_dataset(s,t)"
   ]
  },
  {
   "cell_type": "code",
   "execution_count": 58,
   "metadata": {},
   "outputs": [],
   "source": [
    "postag_rf.train(s2, t2)"
   ]
  },
  {
   "cell_type": "code",
   "execution_count": 66,
   "metadata": {},
   "outputs": [],
   "source": [
    "modelpath = \"postagger_research_rf\""
   ]
  },
  {
   "cell_type": "code",
   "execution_count": null,
   "metadata": {},
   "outputs": [],
   "source": []
  },
  {
   "cell_type": "code",
   "execution_count": 67,
   "metadata": {},
   "outputs": [],
   "source": [
    "postag_rf.save_model(modelpath)"
   ]
  },
  {
   "cell_type": "code",
   "execution_count": 68,
   "metadata": {
    "collapsed": true,
    "jupyter": {
     "outputs_hidden": true
    }
   },
   "outputs": [
    {
     "data": {
      "text/plain": [
       "[('Dilansir', 'VP'),\n",
       " ('dari', 'IN'),\n",
       " ('Antara', 'NNP'),\n",
       " ('Foto', 'NN'),\n",
       " (',', 'SYM'),\n",
       " ('Ketua Asosiasi Pengelola Pusat Belanja Indonesia', 'NP'),\n",
       " ('(', 'SYM'),\n",
       " ('APPBI', 'NNP'),\n",
       " (')', 'SYM'),\n",
       " ('DKI Ellen Hidayat', 'NP'),\n",
       " ('mengatakan', 'VP'),\n",
       " ('sebagai', 'IN'),\n",
       " ('upaya', 'NN'),\n",
       " ('pencegahan', 'NN'),\n",
       " ('penyebaran', 'NN'),\n",
       " ('virus', 'NN'),\n",
       " ('COVID-19', 'NNP'),\n",
       " ('di', 'IN'),\n",
       " ('ruang', 'NN'),\n",
       " ('publik', 'NN'),\n",
       " (',', 'SYM'),\n",
       " ('pusat', 'NN'),\n",
       " ('perbelanjaan', 'NN'),\n",
       " ('Plaza Indonesia', 'NP'),\n",
       " ('akan', 'ADV'),\n",
       " ('tutup', 'VP'),\n",
       " ('sementara', 'CC'),\n",
       " ('mulai', 'VP'),\n",
       " ('25', 'NUM'),\n",
       " ('Maret', 'NNP'),\n",
       " ('hingga', 'IN'),\n",
       " ('3 April 2020', 'DP'),\n",
       " ('.', 'SYM')]"
      ]
     },
     "execution_count": 68,
     "metadata": {},
     "output_type": "execute_result"
    }
   ],
   "source": [
    "postag_rf.get_phrase_tag(\"Dilansir dari Antara Foto, Ketua Asosiasi Pengelola Pusat Belanja Indonesia (APPBI) DKI Ellen Hidayat mengatakan sebagai upaya pencegahan penyebaran virus COVID-19 di ruang publik, pusat perbelanjaan Plaza Indonesia akan tutup sementara mulai 25 Maret hingga 3 April 2020.\")"
   ]
  },
  {
   "cell_type": "code",
   "execution_count": 48,
   "metadata": {},
   "outputs": [],
   "source": [
    "# import nltk\n",
    "# nltk.download(\"punkt\")"
   ]
  },
  {
   "cell_type": "code",
   "execution_count": 69,
   "metadata": {
    "collapsed": true,
    "jupyter": {
     "outputs_hidden": true
    }
   },
   "outputs": [
    {
     "data": {
      "text/plain": [
       "[('Menyusul', 'VP'),\n",
       " ('Pandemi Covid-19', 'NP'),\n",
       " (',', 'SYM'),\n",
       " ('sejumlah', 'NUM'),\n",
       " ('objek', 'NN'),\n",
       " ('wisata', 'NN'),\n",
       " ('di', 'IN'),\n",
       " ('Kecamatan Ciracap', 'NP'),\n",
       " (',', 'SYM'),\n",
       " ('Kabupaten Sukabumi', 'NP'),\n",
       " ('ditutup', 'VP'),\n",
       " ('untuk', 'SC'),\n",
       " ('sementara', 'CC'),\n",
       " ('waktu', 'NN'),\n",
       " ('.', 'SYM')]"
      ]
     },
     "execution_count": 69,
     "metadata": {},
     "output_type": "execute_result"
    }
   ],
   "source": [
    "postag_rf.get_phrase_tag(\"Menyusul Pandemi Covid-19, sejumlah objek wisata di Kecamatan Ciracap, Kabupaten Sukabumi ditutup untuk sementara waktu.\")"
   ]
  },
  {
   "cell_type": "code",
   "execution_count": 70,
   "metadata": {
    "collapsed": true,
    "jupyter": {
     "outputs_hidden": true
    }
   },
   "outputs": [
    {
     "data": {
      "text/plain": [
       "[('Informasi', 'NN'),\n",
       " ('terakhir', 'NUM'),\n",
       " ('dari', 'IN'),\n",
       " ('Jubir Penanganan Corona Achmad Yurianto', 'NP'),\n",
       " ('beberapa', 'NUM'),\n",
       " ('hari', 'NN'),\n",
       " ('lalu', 'CC'),\n",
       " (',', 'SYM'),\n",
       " ('kondisi', 'NN'),\n",
       " ('Budi Karya', 'NP'),\n",
       " ('membaik', 'VP'),\n",
       " ('.', 'SYM')]"
      ]
     },
     "execution_count": 70,
     "metadata": {},
     "output_type": "execute_result"
    }
   ],
   "source": [
    "postag_rf.get_phrase_tag(\"Informasi terakhir dari Jubir Penanganan Corona Achmad Yurianto beberapa hari lalu, kondisi Budi Karya membaik.\")"
   ]
  },
  {
   "cell_type": "code",
   "execution_count": 71,
   "metadata": {
    "collapsed": true,
    "jupyter": {
     "outputs_hidden": true
    }
   },
   "outputs": [
    {
     "data": {
      "text/plain": [
       "[('Juga', 'ADV'),\n",
       " ('Nationale Dodenherdenking', 'NP'),\n",
       " ('(', 'SYM'),\n",
       " ('Hari Nasional Mengenang', 'NP'),\n",
       " ('Mereka', 'PR'),\n",
       " ('yang', 'SC'),\n",
       " ('Gugur', 'NNP'),\n",
       " (',', 'SYM'),\n",
       " ('red', 'FW'),\n",
       " (')', 'SYM'),\n",
       " ('di', 'IN'),\n",
       " ('alun-alun', 'NN'),\n",
       " ('Dam', 'NNP'),\n",
       " (',', 'SYM'),\n",
       " ('Amsterdam', 'NNP'),\n",
       " (',', 'SYM'),\n",
       " ('akan', 'ADV'),\n",
       " ('diselenggarakan', 'VP'),\n",
       " ('dengan', 'IN'),\n",
       " ('format', 'NN'),\n",
       " ('tidak', 'NEG'),\n",
       " ('seperti', 'IN'),\n",
       " ('biasa', 'ADJP'),\n",
       " ('.', 'SYM')]"
      ]
     },
     "execution_count": 71,
     "metadata": {},
     "output_type": "execute_result"
    }
   ],
   "source": [
    "postag_rf.get_phrase_tag(\"Juga Nationale Dodenherdenking (Hari Nasional Mengenang Mereka yang Gugur, red) di alun-alun Dam, Amsterdam, akan diselenggarakan dengan format tidak seperti biasa.\")"
   ]
  },
  {
   "cell_type": "code",
   "execution_count": 72,
   "metadata": {
    "collapsed": true,
    "jupyter": {
     "outputs_hidden": true
    }
   },
   "outputs": [
    {
     "data": {
      "text/plain": [
       "[('Salah', 'ADJP'),\n",
       " ('satu', 'NUM'),\n",
       " ('pasien positif', 'NP'),\n",
       " ('corona', 'NN'),\n",
       " ('di', 'IN'),\n",
       " ('Yogyakarta Iwan Dwiprahasto', 'NP'),\n",
       " ('meninggal', 'VP'),\n",
       " ('dunia', 'NN'),\n",
       " ('pada', 'IN'),\n",
       " ('Selasa', 'NNP'),\n",
       " ('(', 'SYM'),\n",
       " ('24/3/2020', 'NUM'),\n",
       " (')', 'SYM')]"
      ]
     },
     "execution_count": 72,
     "metadata": {},
     "output_type": "execute_result"
    }
   ],
   "source": [
    "postag_rf.get_phrase_tag(\"Salah satu pasien positif corona di Yogyakarta Iwan Dwiprahasto meninggal dunia pada Selasa (24/3/2020)\")"
   ]
  },
  {
   "cell_type": "code",
   "execution_count": 73,
   "metadata": {},
   "outputs": [
    {
     "data": {
      "text/plain": [
       "[('Pegawai', 'NNP'),\n",
       " ('Terindikasi', 'VP'),\n",
       " ('Corona', 'NNP'),\n",
       " (',', 'SYM'),\n",
       " ('Bank Mandiri Setop Operasional Cabang Kyai Tapa', 'NP')]"
      ]
     },
     "execution_count": 73,
     "metadata": {},
     "output_type": "execute_result"
    }
   ],
   "source": [
    "postag_rf.get_phrase_tag(\"Pegawai Terindikasi Corona, Bank Mandiri Setop Operasional Cabang Kyai Tapa\")"
   ]
  },
  {
   "cell_type": "code",
   "execution_count": 74,
   "metadata": {},
   "outputs": [
    {
     "data": {
      "text/plain": [
       "[('Pekan', 'NNP'),\n",
       " ('lalu', 'CC'),\n",
       " (',', 'SYM'),\n",
       " ('Otoritas Jasa Keuangan', 'NP'),\n",
       " ('atau', 'CC'),\n",
       " ('OJK', 'NNP'),\n",
       " ('menerbitkan', 'VP'),\n",
       " ('Peraturan OJK', 'NP'),\n",
       " ('(', 'SYM'),\n",
       " ('POJK', 'NNP'),\n",
       " (')', 'SYM'),\n",
       " ('No', 'NNP'),\n",
       " ('.', 'SYM'),\n",
       " ('11/POJK', 'NUM'),\n",
       " ('.', 'SYM'),\n",
       " ('03/2020', 'NUM'),\n",
       " ('tentang', 'VP'),\n",
       " ('Stimulus Perekonomian Nasional', 'NP'),\n",
       " ('Sebagai', 'IN'),\n",
       " ('Kebijakan', 'NN'),\n",
       " ('Countercyclical Dampak', 'NP'),\n",
       " ('Penyebaran', 'NN'),\n",
       " ('Coronavirus Disease', 'NP'),\n",
       " ('2019', 'NUM')]"
      ]
     },
     "execution_count": 74,
     "metadata": {},
     "output_type": "execute_result"
    }
   ],
   "source": [
    "postag_rf.get_phrase_tag(\"Pekan lalu, Otoritas Jasa Keuangan atau OJK menerbitkan Peraturan OJK (POJK) No.11/POJK.03/2020 tentang Stimulus Perekonomian Nasional Sebagai Kebijakan Countercyclical Dampak Penyebaran Coronavirus Disease 2019\")"
   ]
  },
  {
   "cell_type": "code",
   "execution_count": 79,
   "metadata": {},
   "outputs": [],
   "source": [
    "postag_svc = PosTag(method=\"svc\")"
   ]
  },
  {
   "cell_type": "code",
   "execution_count": 80,
   "metadata": {},
   "outputs": [],
   "source": [
    "s, t = postag_svc.read_dataset()\n",
    "s2, t2 = postag_svc.transform_to_dataset(s,t)"
   ]
  },
  {
   "cell_type": "code",
   "execution_count": 81,
   "metadata": {},
   "outputs": [
    {
     "name": "stderr",
     "output_type": "stream",
     "text": [
      "/Users/tyasnk/.pyenv/versions/3.7.2/envs/venv_postag_research/lib/python3.7/site-packages/sklearn/svm/_base.py:947: ConvergenceWarning: Liblinear failed to converge, increase the number of iterations.\n",
      "  \"the number of iterations.\", ConvergenceWarning)\n"
     ]
    }
   ],
   "source": [
    "postag_svc.train(s2, t2)"
   ]
  },
  {
   "cell_type": "code",
   "execution_count": 96,
   "metadata": {},
   "outputs": [],
   "source": [
    "postag_svc.save_model(\"postagger_research_svm.pkl\")"
   ]
  },
  {
   "cell_type": "code",
   "execution_count": 84,
   "metadata": {},
   "outputs": [
    {
     "data": {
      "text/plain": [
       "[('Dilansir', 'VP'),\n",
       " ('dari', 'IN'),\n",
       " ('Antara Foto', 'NP'),\n",
       " (',', 'SYM'),\n",
       " ('Ketua Asosiasi Pengelola Pusat Belanja Indonesia', 'NP'),\n",
       " ('(', 'SYM'),\n",
       " ('APPBI', 'NNP'),\n",
       " (')', 'SYM'),\n",
       " ('DKI Ellen Hidayat', 'NP'),\n",
       " ('mengatakan', 'VP'),\n",
       " ('sebagai', 'IN'),\n",
       " ('upaya', 'NN'),\n",
       " ('pencegahan', 'NN'),\n",
       " ('penyebaran', 'NN'),\n",
       " ('virus', 'NN'),\n",
       " ('COVID-19', 'NNP'),\n",
       " ('di', 'IN'),\n",
       " ('ruang', 'NN'),\n",
       " ('publik', 'NN'),\n",
       " (',', 'SYM'),\n",
       " ('pusat', 'NN'),\n",
       " ('perbelanjaan', 'NN'),\n",
       " ('Plaza Indonesia', 'NP'),\n",
       " ('akan', 'ADV'),\n",
       " ('tutup', 'VP'),\n",
       " ('sementara', 'CC'),\n",
       " ('mulai', 'VP'),\n",
       " ('25', 'NUM'),\n",
       " ('Maret', 'NNP'),\n",
       " ('hingga', 'IN'),\n",
       " ('3 April 2020', 'DP'),\n",
       " ('.', 'SYM')]"
      ]
     },
     "execution_count": 84,
     "metadata": {},
     "output_type": "execute_result"
    }
   ],
   "source": [
    "postag_svc.get_phrase_tag(\"Dilansir dari Antara Foto, Ketua Asosiasi Pengelola Pusat Belanja Indonesia (APPBI) DKI Ellen Hidayat mengatakan sebagai upaya pencegahan penyebaran virus COVID-19 di ruang publik, pusat perbelanjaan Plaza Indonesia akan tutup sementara mulai 25 Maret hingga 3 April 2020.\")"
   ]
  },
  {
   "cell_type": "code",
   "execution_count": 85,
   "metadata": {},
   "outputs": [
    {
     "data": {
      "text/plain": [
       "[('Menyusul', 'VP'),\n",
       " ('Pandemi Covid-19', 'NP'),\n",
       " (',', 'SYM'),\n",
       " ('sejumlah', 'NUM'),\n",
       " ('objek', 'NN'),\n",
       " ('wisata', 'NN'),\n",
       " ('di', 'IN'),\n",
       " ('Kecamatan Ciracap', 'NP'),\n",
       " (',', 'SYM'),\n",
       " ('Kabupaten Sukabumi', 'NP'),\n",
       " ('ditutup', 'VP'),\n",
       " ('untuk', 'SC'),\n",
       " ('sementara', 'CC'),\n",
       " ('waktu', 'NN'),\n",
       " ('.', 'SYM')]"
      ]
     },
     "execution_count": 85,
     "metadata": {},
     "output_type": "execute_result"
    }
   ],
   "source": [
    "postag_svc.get_phrase_tag(\"Menyusul Pandemi Covid-19, sejumlah objek wisata di Kecamatan Ciracap, Kabupaten Sukabumi ditutup untuk sementara waktu.\")"
   ]
  },
  {
   "cell_type": "code",
   "execution_count": 86,
   "metadata": {},
   "outputs": [
    {
     "data": {
      "text/plain": [
       "[('Informasi', 'NN'),\n",
       " ('terakhir', 'NUM'),\n",
       " ('dari', 'IN'),\n",
       " ('Jubir Penanganan Corona Achmad Yurianto', 'NP'),\n",
       " ('beberapa', 'NUM'),\n",
       " ('hari', 'NN'),\n",
       " ('lalu', 'CC'),\n",
       " (',', 'SYM'),\n",
       " ('kondisi', 'NN'),\n",
       " ('Budi Karya', 'NP'),\n",
       " ('membaik', 'VP'),\n",
       " ('.', 'SYM')]"
      ]
     },
     "execution_count": 86,
     "metadata": {},
     "output_type": "execute_result"
    }
   ],
   "source": [
    "postag_svc.get_phrase_tag(\"Informasi terakhir dari Jubir Penanganan Corona Achmad Yurianto beberapa hari lalu, kondisi Budi Karya membaik.\")"
   ]
  },
  {
   "cell_type": "code",
   "execution_count": 87,
   "metadata": {},
   "outputs": [
    {
     "data": {
      "text/plain": [
       "[('Juga', 'ADV'),\n",
       " ('Nationale Dodenherdenking', 'NP'),\n",
       " ('(', 'SYM'),\n",
       " ('Hari Nasional Mengenang', 'NP'),\n",
       " ('Mereka', 'PR'),\n",
       " ('yang', 'SC'),\n",
       " ('Gugur', 'NNP'),\n",
       " (',', 'SYM'),\n",
       " ('red', 'FW'),\n",
       " (')', 'SYM'),\n",
       " ('di', 'IN'),\n",
       " ('alun-alun', 'NN'),\n",
       " ('Dam', 'NNP'),\n",
       " (',', 'SYM'),\n",
       " ('Amsterdam', 'NNP'),\n",
       " (',', 'SYM'),\n",
       " ('akan', 'ADV'),\n",
       " ('diselenggarakan', 'VP'),\n",
       " ('dengan', 'IN'),\n",
       " ('format', 'NN'),\n",
       " ('tidak', 'NEG'),\n",
       " ('seperti', 'IN'),\n",
       " ('biasa', 'ADJP'),\n",
       " ('.', 'SYM')]"
      ]
     },
     "execution_count": 87,
     "metadata": {},
     "output_type": "execute_result"
    }
   ],
   "source": [
    "postag_svc.get_phrase_tag(\"Juga Nationale Dodenherdenking (Hari Nasional Mengenang Mereka yang Gugur, red) di alun-alun Dam, Amsterdam, akan diselenggarakan dengan format tidak seperti biasa.\")"
   ]
  },
  {
   "cell_type": "code",
   "execution_count": 95,
   "metadata": {},
   "outputs": [
    {
     "data": {
      "text/plain": [
       "[('Salah', 'ADJP'),\n",
       " ('satu', 'NUM'),\n",
       " ('pasien positif', 'NP'),\n",
       " ('corona', 'FW'),\n",
       " ('di', 'IN'),\n",
       " ('Yogyakarta Iwan Dwiprahasto', 'NP'),\n",
       " ('meninggal', 'VP'),\n",
       " ('dunia', 'NN'),\n",
       " ('pada', 'IN'),\n",
       " ('Selasa', 'NNP'),\n",
       " ('(', 'SYM'),\n",
       " ('24/3/2020', 'NUM'),\n",
       " (')', 'SYM')]"
      ]
     },
     "execution_count": 95,
     "metadata": {},
     "output_type": "execute_result"
    }
   ],
   "source": [
    "postag_svc.get_phrase_tag(\"Salah satu pasien positif corona di Yogyakarta Iwan Dwiprahasto meninggal dunia pada Selasa (24/3/2020)\")"
   ]
  },
  {
   "cell_type": "code",
   "execution_count": 89,
   "metadata": {},
   "outputs": [
    {
     "data": {
      "text/plain": [
       "[('Pegawai Terindikasi Corona', 'NP'),\n",
       " (',', 'SYM'),\n",
       " ('Bank Mandiri Setop Operasional Cabang Kyai Tapa', 'NP')]"
      ]
     },
     "execution_count": 89,
     "metadata": {},
     "output_type": "execute_result"
    }
   ],
   "source": [
    "postag_svc.get_phrase_tag(\"Pegawai Terindikasi Corona, Bank Mandiri Setop Operasional Cabang Kyai Tapa\")"
   ]
  },
  {
   "cell_type": "code",
   "execution_count": null,
   "metadata": {},
   "outputs": [],
   "source": []
  }
 ],
 "metadata": {
  "kernelspec": {
   "display_name": "Python 3",
   "language": "python",
   "name": "python3"
  },
  "language_info": {
   "codemirror_mode": {
    "name": "ipython",
    "version": 3
   },
   "file_extension": ".py",
   "mimetype": "text/x-python",
   "name": "python",
   "nbconvert_exporter": "python",
   "pygments_lexer": "ipython3",
   "version": "3.7.2"
  }
 },
 "nbformat": 4,
 "nbformat_minor": 4
}
